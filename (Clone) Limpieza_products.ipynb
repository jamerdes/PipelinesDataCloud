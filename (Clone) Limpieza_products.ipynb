{
 "cells": [
  {
   "cell_type": "code",
   "execution_count": 0,
   "metadata": {
    "application/vnd.databricks.v1+cell": {
     "cellMetadata": {
      "byteLimit": 2048000,
      "rowLimit": 10000
     },
     "inputWidgets": {},
     "nuid": "0b4539f4-78ad-467f-9f52-441e00967d79",
     "showTitle": false,
     "tableResultSettingsMap": {},
     "title": ""
    }
   },
   "outputs": [],
   "source": [
    "# Definimos el path donde está guardada la tabla Delta\n",
    "ruta_productos_silver = \"abfss://datalake@dlsmde01jamerdess.dfs.core.windows.net/silver/productos\"\n",
    "\n",
    "# Eliminamos la tabla del catálogo si ya existe\n",
    "spark.sql(\"DROP TABLE IF EXISTS adbmde01jamerdes_1132885985894215.silver.productos\")\n",
    "\n",
    "# Eliminamos los archivos físicos del directorio Delta\n",
    "dbutils.fs.rm(ruta_productos_silver, recurse=True)\n"
   ]
  }
 ],
 "metadata": {
  "application/vnd.databricks.v1+notebook": {
   "computePreferences": null,
   "dashboards": [],
   "environmentMetadata": {
    "base_environment": "",
    "environment_version": "2"
   },
   "inputWidgetPreferences": null,
   "language": "python",
   "notebookMetadata": {
    "pythonIndentUnit": 4
   },
   "notebookName": "(Clone) Limpieza_products",
   "widgets": {}
  },
  "language_info": {
   "name": "python"
  }
 },
 "nbformat": 4,
 "nbformat_minor": 0
}
