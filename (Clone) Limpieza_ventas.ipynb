{
 "cells": [
  {
   "cell_type": "code",
   "execution_count": 0,
   "metadata": {
    "application/vnd.databricks.v1+cell": {
     "cellMetadata": {
      "byteLimit": 2048000,
      "rowLimit": 10000
     },
     "inputWidgets": {},
     "nuid": "b521df34-f06d-481a-b4ab-fe813a22ef13",
     "showTitle": false,
     "tableResultSettingsMap": {},
     "title": ""
    }
   },
   "outputs": [],
   "source": [
    "# Definimos el path donde está guardada la tabla Delta de ventas\n",
    "ruta_ventas_silver = \"abfss://datalake@dlsmde01jamerdess.dfs.core.windows.net/silver/ventas\"\n",
    "\n",
    "# Elimina la tabla del catálogo Unity Catalog si ya existe\n",
    "spark.sql(\"DROP TABLE IF EXISTS adbmde01jamerdes_1132885985894215.silver.ventas\")\n",
    "\n",
    "# Elimina los archivos físicos del directorio Delta en la capa Silver\n",
    "dbutils.fs.rm(ruta_ventas_silver, recurse=True)"
   ]
  }
 ],
 "metadata": {
  "application/vnd.databricks.v1+notebook": {
   "computePreferences": null,
   "dashboards": [],
   "environmentMetadata": {
    "base_environment": "",
    "environment_version": "2"
   },
   "inputWidgetPreferences": null,
   "language": "python",
   "notebookMetadata": {
    "pythonIndentUnit": 4
   },
   "notebookName": "(Clone) Limpieza_ventas",
   "widgets": {}
  },
  "language_info": {
   "name": "python"
  }
 },
 "nbformat": 4,
 "nbformat_minor": 0
}
